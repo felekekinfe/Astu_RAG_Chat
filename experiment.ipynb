{
 "cells": [
  {
   "cell_type": "code",
   "execution_count": 21,
   "metadata": {},
   "outputs": [
    {
     "name": "stderr",
     "output_type": "stream",
     "text": [
      "/home/cs/.pyenv/versions/3.10.0/lib/python3.10/site-packages/tqdm/auto.py:21: TqdmWarning: IProgress not found. Please update jupyter and ipywidgets. See https://ipywidgets.readthedocs.io/en/stable/user_install.html\n",
      "  from .autonotebook import tqdm as notebook_tqdm\n"
     ]
    }
   ],
   "source": [
    "from docx import Document\n",
    "from PyPDF2 import PdfReader\n",
    "from pptx import Presentation\n",
    "from langchain_community.vectorstores import FAISS\n",
    "from langchain_huggingface import HuggingFacePipeline, HuggingFaceEmbeddings\n",
    "from langchain_core.runnables import RunnablePassthrough\n",
    "from langchain_core.output_parsers import StrOutputParser\n",
    "from langchain_core.prompts import ChatPromptTemplate, MessagesPlaceholder\n",
    "from langchain_text_splitters import RecursiveCharacterTextSplitter\n",
    "from transformers import AutoModelForCausalLM, AutoTokenizer, pipeline"
   ]
  },
  {
   "cell_type": "code",
   "execution_count": 16,
   "metadata": {},
   "outputs": [
    {
     "name": "stdout",
     "output_type": "stream",
     "text": [
      "Input: 'hellowyn' -> Matches: ['hellowyn']\n",
      "Input: 'good' -> Matches: ['good']\n",
      "Input: 'wyn' -> Matches: ['wyn']\n",
      "Input: 'hello wyn' -> Matches: ['hello', ' wyn']\n",
      "Input: 'wynn' -> Matches: ['wynn']\n",
      "Input: 'wynx' -> Matches: ['wynx']\n",
      "Input: 'hello' -> Matches: ['hello']\n",
      "Input: \"it's wyn!\" -> Matches: ['it', \"'s\", ' wyn', '!']\n",
      "Input: 'unhappy' -> Matches: ['unhappy']\n"
     ]
    }
   ],
   "source": [
    "import regex\n",
    "\n",
    "pattern = r\"\"\"'s|'t|'re|'ve|'m|'ll|'d| ?[\\p{L}]+| ?[\\p{N}]+| ?[^\\s\\p{L}\\p{N}]+|\\s+(?!\\S)|\\s+\"\"\"\n",
    "test_cases = [\n",
    "    \"hellowyn\",      # Should split into [\"hello\", \"w\", \"y\", \"n\"]\n",
    "    \"good\",       # Should split into [\"good\", \"w\", \"y\", \"n\"]\n",
    "    \"wyn\",           # Should not split, result: [\"wyn\"] (no word in front)\n",
    "    \"hello wyn\",     # Should not split \"wyn\", result: [\"hello\", \" \", \"wyn\"] (space)\n",
    "    \"wynn\",          # Should not split, result: [\"wynn\"] (not exactly \"wyn\")\n",
    "    \"wynx\",          # Should not split, result: [\"wynx\"] (not \"wyn\")\n",
    "    \"hello\",         # Should not split, result: [\"hello\"] (no \"wyn\")\n",
    "    \"it's wyn!\",     # Should not split \"wyn\", result: [\"it\", \"'\", \"s\", \" \", \"wyn\", \"!\"]\n",
    "    \"unhappy\",         # Should split into [\"ab\", \"w\", \"y\", \"n\"]\n",
    "]\n",
    "\n",
    "for text in test_cases:\n",
    "    matches = regex.findall(pattern, text)\n",
    "    print(f\"Input: {text!r} -> Matches: {matches}\")"
   ]
  },
  {
   "cell_type": "markdown",
   "metadata": {},
   "source": [
    "\n",
    "\n",
    "## Data Loading\n",
    "\n",
    "For This Notebook, I have taken Three different types of data.\n",
    "\n",
    "    PDF \n",
    "    JSON\n",
    "\n"
   ]
  },
  {
   "cell_type": "code",
   "execution_count": 65,
   "metadata": {},
   "outputs": [],
   "source": [
    "pdf_file = open('data/Sub-teams and descriptions.pdf','rb')"
   ]
  },
  {
   "cell_type": "markdown",
   "metadata": {},
   "source": [
    "\n",
    "\n",
    "## Data Extraction\n",
    "\n",
    "    PDF :- Pdf data is extracted using PyPDF2 and all text is stored in a string.\n",
    "    JSON\n",
    "\n",
    "After Extracting all data seperately, I have combined all text in a single string for further text processing."
   ]
  },
  {
   "cell_type": "code",
   "execution_count": 66,
   "metadata": {},
   "outputs": [
    {
     "name": "stdout",
     "output_type": "stream",
     "text": [
      "1 \n",
      " College of Education for Humanities - Department of English 4th year – poetry 2nd course  \n",
      " \n",
      " “The thought fox”    by  Ted Hughes      \n",
      " \n",
      "I imagine this midnight moment‟s forest:  \n",
      "Something else is alive  \n",
      "Beside the clock‟s loneliness  \n",
      "And this blank page where my fingers move.    \n",
      "Through the window I see no star:  \n",
      "Something more near  \n",
      "Though deeper within darkness  \n",
      "Is entering the loneliness:  \n",
      " \n",
      "Cold, delicately as the dark snow,  \n",
      "A fox‟s nose touches twig, leaf;  \n",
      "Two eyes serve a movement, that now  \n",
      "And again now, and now, and now  \n",
      " \n",
      "Sets neat prints into the snow  \n",
      "Between trees, and wari ly a lame  \n",
      "Shadow lags by stump and in hollow  \n",
      "Of a body that is bold to come  \n",
      " \n",
      "Across clearings, an eye,  \n",
      "A widening deepening greenness,  \n",
      "Brilliantly, concentratedly,  \n",
      "Coming about its own business  \n",
      "Till, with a sudden sharp hot stink of fox  \n",
      "It enters the dark hole of the head.  \n",
      "The window is starless still; the clock ticks,  \n",
      "The page is printed.  \n",
      "  \n",
      " \n",
      " \n",
      " \n",
      " \n",
      " \n",
      " \n",
      " 2 \n",
      " The „THOUGHT -FOX‟ has  often been acknowledged as one of the most completely realized  \n",
      "and artistically satisfying of the poems in Ted Hughes‟s first collection, The Hawk in the Rain. \n",
      "At the same time it is one of the most frequently anthologized  of all Hughes‟s poems . The \n",
      "particular interest is in the underlying puritanism of Hughes‟s poet ic vision and in the conflict \n",
      "between violence and tenderness  which seems to be directly engendered by this puritanism.  \n",
      "„The thought -fox‟ is a poem about writing a poem. Its external action takes place in a room late \n",
      "at night where the poet is sitting alo ne at his desk. Outside the night is starless, silent, and \n",
      "totally black. But the poet senses a presence which disturbs him:  \n",
      "Through the window I see no star:  \n",
      "Something more near  \n",
      "Though deeper within darkness  \n",
      "Is entering the loneliness.  \n",
      "The disturbance i s not in the external darkness of the night, for the night is itself a metaphor for \n",
      "the deeper and more intimate darkness of the poet‟s imagination in whose depths an idea is \n",
      "mysteriously stirring. At first the idea has no clear outlines; it is not seen bu t felt – frail and \n",
      "intensely vulnerable. The poet‟s task is to coax  (get0  it out of formlessness and into fuller \n",
      "consciousness by the sensitivity of his language. The remote stirrings of the poem are compared \n",
      "to the stirrings of an animal – a fox, whose bo dy is invisible, but which feels its way forward \n",
      "nervously through the dark undergrowth:  \n",
      "Cold, delicately as the dark snow,  \n",
      "A fox‟s nose touches twig, leaf;  \n",
      "The half -hidden image which is contained within these lines is of soft snow brushing against the \n",
      "trees as it falls in dark flakes to the ground. The idea of the delicate dark snow evokes the \n",
      "physical reality of the fox‟s nose which is itself cold, dark and damp, twitching moistly and \n",
      "gently against twig and leaf. In this way the first feature of the fo x is mysteriously defined and \n",
      "its wet black nose is nervously alive in the darkness, feeling its way towards us. But by \n",
      "inverting the natural order of the simile, and withholding the subject of the sentence, the poet \n",
      "succeeds in blurring its distinctness s o that the fox emerges only slowly out of the formlessness \n",
      "of the snow. Gradually the fox‟s eyes appear out of the same formlessness, leading the shadowy \n",
      "movement of its body as it comes closer:   \n",
      "Two eyes serve a movement, that now  3 \n",
      " And again now, and now,  and now  \n",
      " \n",
      "Sets neat prints into the snow  \n",
      "Between trees, and warily a lame  \n",
      "Shadow lags by stump and in hollow. ..  \n",
      " In the first two lines of this passage the rhythm of the verse is broken by the punctuation and \n",
      "the line -endings, while at the same time what  seemed the predictable course of the rhyme -\n",
      "scheme is deliberately departed from. Both rhythmically and phonetically the verse thus mimes \n",
      "the nervous, unpredictable movement of the fox as it delicately steps forward, then stops \n",
      "suddenly to check the terrai n before it runs on only to stop again. The tracks which the fox \n",
      "leaves in the snow are themselves duplicated by the sounds and rhythm of the line „Sets neat \n",
      "prints into the snow‟. The first three short words of this line are internal half -rhymes, as neat,  as \n",
      "identical and as sharply outlined as the fox‟s paw -marks, and these words press down gently but \n",
      "distinctly into the soft open vowel of „snow‟. The fox‟s body remains indistinct, a silhouette \n",
      "against the snow. But the phrase „lame shadow‟ itself evokes a more precise image of the fox, \n",
      "as it freezes alertly in its tracks, holding one front -paw in mid -air, and then moves off again like \n",
      "a limping animal. At the end of the stanza the words „bold to come‟ are left suspended – as \n",
      "though the fox is pausing at t he outer edge of some trees. The gap between the stanzas is itself \n",
      "the clearing which the fox, after hesitating warily, suddenly shoots across: „Of a body that is \n",
      "bold to come / Across clearings. ..‟  \n",
      " At this point in the poem the hesitant rhythm of that single sentence which is prolonged over \n",
      "five stanzas breaks into a final and deliberate run. The fox has scented safety. After its dash \n",
      "across the clearing of the stanza -break, it has come suddenly closer, bearing down upon the poet \n",
      "and upon the reader:  \n",
      "                                        an eye,  \n",
      "A widening deepening greenness,  \n",
      "Brilliantly, concentratedly,  \n",
      "Coming about its own business. ..  \n",
      "It is so close now that its two eyes have merged into a single green glare which grows wider and \n",
      "wider as the fox comes nearer, its eyes heading directly towards ours: „Till, with a sudden sharp 4 \n",
      " hot stink of fox  “ It enters the dark hole of the head‟. If we follow the „visual logic‟ of the poem \n",
      "we are compelled to imagine the fox actually jumping through the eyes of the poet – with whom \n",
      "the reader of the poem is inevitably drawn into identification. The fox enters the  lair of the head \n",
      "as it would enter its own lair, bringing with it the hot, sensual, animal reek of its body and all \n",
      "the excitement and power of the achieved vision.  \n",
      "The fox is no longer a formless stirring somewhere in the dark depths of the bodily imagin ation; \n",
      "it has been coaxed out of the darkness and into full consciousness. It is no longer nervous and \n",
      "vulnerable, but at home in the lair of the head, safe from extinction, perfectly created, its being \n",
      "caught forever  on the page. And all this has been don e purely by the imagination. For in reality \n",
      "there is no fox at all, and outside, in the external darkness, nothing has changed: „The window is \n",
      "starless still; the clock ticks, / The page is printed.‟ The fox is the poem, and the poem is the \n",
      "fox. „And I sup pose,‟ Ted Hughes has written, „that long after I am gone, as long as a copy of \n",
      "the poem exists, every time anyone reads it the fox will get up somewhere out of the darkness \n",
      "and come walking towards them.‟[1]  \n",
      "  \n",
      "After discussing „The thought -fox‟ in his boo k The Art of Ted Hughes , Keith Sagar  \n",
      "writes: „Suddenly, out of the unknown, there it is, with all the characteristics of a living thing – \n",
      "“a sudden sharp hot stink of fox”. A simple trick like pulling a kicking rabbit from a hat, but \n",
      "only a true poet can d o it‟.[2] In this particular instance it seems to me that the simile Sagar uses \n",
      "betrays him into an inappropriate critical response . His comparison may be apt in one respect, \n",
      "for it is certainly true that there is a powerful element of magic in the poem. B ut this magic has \n",
      "little to do with party -conjurors who pull rabbits out of top -hats. It is more like the sublime and \n",
      "awesome magic which is contained in the myth of creation, where God creates living beings out \n",
      "of nothingness by the mere fiat of his imagi nation.  \n",
      "  The very sublimity and God -like nature of Hughes‟s vision can engender uneasiness. For \n",
      "Hughes‟s fox has none of the freedom of an animal. It cannot get up from the page and walk off \n",
      "to nuzzle its young cubs or do foxy things behind the poet‟s bac k. It cannot even die in its own \n",
      "mortal, animal way. For it is the poet‟s creature, wholly owned and possessed by him, fashioned \n",
      "almost egotistically in order to proclaim not its own reality but that of its imaginatively 5 \n",
      " omnipotent creator. (I originally w rote these words before coming across Hughes‟s own \n",
      "discussion of the poem in Poetry in the Making: „So, you see, in some ways my fox is better \n",
      "than an  ordinary fox. It will live for ever, it will never suffer from hunger or hounds. I have it \n",
      "with me whereve r I go. And I made it. And all through imagining it clearly enough and finding \n",
      "the living  words‟ (p. 21).)  \n",
      "  This feeling of uneasiness is heightened by the last stanza of the poem. For although this \n",
      "stanza clearly communicates the excitement of poetic cr eation, it seems at the same time to \n",
      "express an almost predatory thrill; it is as though the fox has successfully been lured into a \n",
      "hunter‟s trap. The bleak matter -of-factness of the final line – ‟The page is printed‟ – only \n",
      "reinforces the curious deadness  of the thought -fox. If, at the end of the poem, there is one sense \n",
      "in which the fox is vividly and immediately alive, it is only because it has been pinned so \n",
      "artfully upon the page. The very accuracy of the evocation of the fox seems at times almost \n",
      "fussily obsessive. The studied and beautifully „final‟ nature of the poem indicates that we are \n",
      "not in the presence of any untrained spontaneity, any primitive or naive vision. It might be \n",
      "suggested that the sensibility behind Hughes‟s poem is more that of an intellectual – an \n",
      "intellectual who, in rebellion against his own ascetic rationalism, feels himself driven to hunt \n",
      "down and capture an element of his own sensual and intuitive identity which he does not \n",
      "securely possess.  \n",
      "The conflict of sensibility  which H ughes unconsciously dramatizes  in „The thought -fox‟ \n",
      "runs through all his poetry. On the one hand there is in his work an extraordinary sensuous and \n",
      "sensual generosity which coexists with a sense of abundance and a capacity for expressing \n",
      "tenderness which a re unusual in contemporary poetry . These qualities are particularly in \n",
      "evidence in some of the most mysteriously powerful of all his poems – poems such as „Crow‟s \n",
      "undersong‟, „Littleblood‟, „Full moon and little Frieda‟ and „Bride and groom lie hidden for \n",
      "three days‟ .  On the other hand his poetry – and above all his poetry in Crow – is notorious for \n",
      "the raging intensity of its violence, a violence which, by some critics at least, has been seen as \n",
      "destructive of all artistic and human values. Hughes himself  seems consistently to see his own \n",
      "poetic sensitivity as „feminine‟ and his poetry frequently gives the impression that he can allow 6 \n",
      " himself to indulge this sensitivity only within a protective shell of hard, steely „masculine‟ \n",
      "violence.  \n",
      "In „The thought -fox‟ itself this conflict of sensibility appears in such an attenuated or \n",
      "suppressed form that it is by no means the most striking feature of the poem. But, as I have tried \n",
      "to show, the conflict may still be discerned. It is present above all in the tension between the \n",
      "extraordinary sensuous delicacy of the image which Hughes uses to describe the fox‟s nose and \n",
      "the predatory, impulse which seems to underlie the poem – an impulse to which Hughes has \n",
      "himself drawn attention by repeatedly comparing the act of po etic creation to the process of \n",
      "capturing or killing small animals.[3] Indeed it might be suggested that the last stanza of the \n",
      "poem records what is, in effect, a ritual of tough „manly‟ posturing. For in it the poet might be \n",
      "seen as playing a kind of imag inative game in which he attempts to outstare the fox – looking \n",
      "straight into its eyes as it comes closer and closer and refusing to move, refusing to flinch, \n",
      "refusing to show any sign of „feminine‟ weakness. The fox itself does not flinch or deviate from \n",
      "its course. It is almost as though, in doing this, it has successfully come through an initiation -\n",
      "ritual to which the poet has unconsciously submitted it; the fox which is initially nervous, \n",
      "circumspect, and as soft and delicate as the dark snow, has prove d that it is not „feminine‟ after \n",
      "all but tough, manly and steely willed „brilliantly, concentratedly, coming about its own \n",
      "business‟.  It is on these conditions alone, perhaps, that its sensuality can be accepted by the \n",
      "poet without anxiety.  \n",
      " \n",
      "The conflict  between violence and tenderness  which is present in an oblique form \n",
      "throughout Hughes‟ early poetry is one that is in no sense healed or resolved in his later work. \n",
      "Indeed it might be suggested that much of the poetic and emotional charge of this later wo rk \n",
      "comes directly from an intensification of this conflict and an increasingly explicit polarization  \n",
      "of its terms. The repressed tenderness of „Snowdrop‟ or the tough steely sensibility which is \n",
      "expressed in „Thrushes‟, with its idealization  of the „bullet  and automatic / Purpose‟ of \n",
      "instinctual life, is seemingly very different to the all but unprotected sensuous delicacy of \n",
      "„Littleblood‟, the poem with which Hughes ends Crow:  \n",
      "O littleblood, little boneless little skinless  7 \n",
      " Ploughing with a linnet‟s carcas e \n",
      "Reaping the wind and threshing the stones.  \n",
      ". . . .  \n",
      "Sit on my finger, sing in my ear, O littleblood.  \n",
      " \n",
      "But this poem must ultimately be located within the larger context which is provided by the \n",
      "Crow poems. This context is one of a massive unleashing of sadistic violence -a violence which \n",
      "is never endorsed by Hughes but which, nevertheless, seems to provide  a kind of necessary \n",
      "psychological armour within which alone tenderness can be liberated without anxiety.  \n",
      " In pointing to the role which is played by a particular conflict of sensibility in Hughes‟s poetry \n",
      "I am not in any way seeking to undermine the case which can – and should – be made for what \n",
      "would conventionally be called Hughes‟s poetic „greatness‟. Indeed, my intention is almost the \n",
      "reverse of this. For it seems to me that one of the factors which moderates or diminishes the \n",
      "imaginative power of some  of Hughes‟s early poetry is precisely the way in which an acute \n",
      "conflict which is central to his own poetic sensibility tends to be disguised or, suppressed. In \n",
      "Crow, which I take to be Hughes‟s most extraordinary poetic achievement to date, Hughes, \n",
      "almos t for the first time, assumes imaginative responsibility for the puritanical violence which \n",
      "is present in his poetry from the very beginnings. In doing so he seems to take full possession of \n",
      "his own poetic powers. It is as though a conflict which had, unti l that point, led a shadowy and \n",
      "underworld existence, is suddenly cracked open in order to disgorge not only its own violence \n",
      "but also all that imaginative wealth and vitality which had been half locked up within it.  \n",
      "  \n",
      "The most obvious precedent for such a  violent eruption of imaginative powers is that which is \n",
      "provided by Shakespeare, and perhaps above all by King Lear. Lear is a play of extraordinary \n",
      "violence whose persistent image, as Caroline Spurgeon has observed, is that „of a human body \n",
      "in anguished movement, tugged, wrenched, beaten, pierced, stung, scourged, dislocated, flayed, \n",
      "gashed, scalded, tortured, and finally broken on the rack‟.[5] But at the same time it is a play \n",
      "about a man who struggles to repossess his own tenderness and emotional vital ity and to weep \n",
      "those tears which, at the beginning of the play, he contemptuously dismisses as soft, weak and \n",
      "womanly. The same conflict reappears throughout Shakespeare‟s poetry. We have only to recall 8 \n",
      " Lady Macbeth‟s renunciation of her own „soft‟ matern al impulses in order to appreciate the \n",
      "fluency of Shakespeare‟s own imaginative access to this conflict and the disturbing cruelty of \n",
      "its terms:  \n",
      " I have given suck, and know  \n",
      "How tender „tis to love the babe that milks me:  \n",
      "I would, while it was smiling in  my face,  \n",
      "Have plucked my nipple from his boneless gums,  \n",
      "And dash‟d the brains out, had I so sworn as you  \n",
      "Have done to this. (I. vii)  \n",
      "The intense conflict between violence and tenderness which is expressed in these lines is, of \n",
      "course, in no sense one whic h will be found only in the poetic vision of Hughes and \n",
      "Shakespeare. It is present in poetry from the Old Testament onwards and indeed it might \n",
      "reasonably be regarded as a universal conflict, within which are contained and expressed some \n",
      "of the most fundam ental characteristics of the human identity.  \n",
      "Any full investigation of the conflict and of its cultural significance would inevitably need to \n",
      "take account both of what Mark Spilka has called „Lawrence‟s quarrel with tenderness‟ and of \n",
      "Ian Suttie‟s discussi on of the extent and rigour of the „taboo on tenderness‟ in our own \n",
      "culture.[6] But such an investigation would also need to take into consideration a much larger \n",
      "cultural context, and perhaps above all to examine the way in which the Christian ideal of lo ve \n",
      "has itself traditionally been expressed within the medium of violent apocalyptic fantasies.  \n",
      "The investigation which I describe is clearly beyond the scope of this essay. My more modest \n",
      "aim here has been to draw attention to the role which is played by t his conflict in two of the \n",
      "most hauntingly powerful of Ted Hughes‟s early poems and to suggest that Hughes‟s poetic \n",
      "powers are fully realized  not when this conflict is resolved but when it is unleashed in its most \n",
      "violent form.  \n",
      " In taking this approach I a m motivated in part by the feeling that the discussion of Hughes‟s \n",
      "poetry has sometimes been too much in thrall to a powerful cultural image of Hughes‟s poetic \n",
      "personality – one which he himself has tended to project. In this image Hughes is above all an \n",
      "isolated and embattled figure who has set himself against the entire course both of modern \n",
      "poetry and of modern history .He is rather like the hero in one of his most powerful poems \n",
      "„Stealing trout on a May morning‟, resolutely and stubbornly wading upstrea m, his feet rooted 9 \n",
      " in the primeval strength of the river‟s bed as the whole course of modern history and modern \n",
      "puritanical rationalism floods violently past him in the opposite direction, bearing with it what \n",
      "Hughes himself has called „mental disintegrati on … under the super -ego of Moses … and the \n",
      "self-anaesthetizing  schizophrenia of St Paul‟, and leaving him in secure possession of that \n",
      "ancient and archaic imaginative energy which he invokes in his poetry.  \n",
      " The alternative to this Romantic view of Hughes‟ s poetic personality is to see Hughes‟s poetry \n",
      "as essentially the poetry of an intellectual, an intellectual who is subject to the rigours of \n",
      "„puritanical rationalism‟ just as much as any other intellectual but who, instead of submitting to \n",
      "those rigours, fights against them with that stubborn and intransigent resolution which belongs \n",
      "only to the puritan soul.  \n",
      "In reality perhaps neither of these views is wholly appropriate, and the truth comes somewhere \n",
      "between the two. But what does seem clear is that when  Hughes talks of modern civilization  as \n",
      "consisting in „mental disintegration. ..under the super -ego of Moses … and the self -\n",
      "anaesthetizing  schizophrenia of St Paul‟ he is once again engaging in that characteristic strategy \n",
      "of externalizing  a conflict of se nsibility which is profoundly internal. For it must be suggested \n",
      "that Paul‟s own „schizophrenia‟ consisted in an acute conflict between the impulse towards \n",
      "tenderness, abundance and generosity and the impulse towards puritanical violence – the \n",
      "violence of chastity. It is precisely this conflict which seems to be buried in Hughes‟s early \n",
      "poetry and which, as I have suggested, eventually erupts in the poetry of Crow. If, in Crow, \n",
      "Hughes is able to explore and express the internalized  violence of the rationali st sensibility with \n",
      "more imaginative power than any other modern poet, it is perhaps because he does so from \n",
      "within a poetic sensibility which is itself profoundly intellectual, and deeply marked by that \n",
      "very puritanical rationalism which he so frequently – and I believe justifiably – attacks.  \n",
      "  \n"
     ]
    }
   ],
   "source": [
    "# extracting pdf data\n",
    "pdf_text = \"\"\n",
    "pdf_reader = PdfReader(pdf_file)\n",
    "for page in pdf_reader.pages:\n",
    "    pdf_text += page.extract_text()\n",
    "print(pdf_text)"
   ]
  },
  {
   "cell_type": "code",
   "execution_count": 67,
   "metadata": {},
   "outputs": [
    {
     "data": {
      "text/plain": [
       "20155"
      ]
     },
     "execution_count": 67,
     "metadata": {},
     "output_type": "execute_result"
    }
   ],
   "source": [
    "\n",
    "all_text = pdf_text\n",
    "len(all_text)"
   ]
  },
  {
   "cell_type": "markdown",
   "metadata": {},
   "source": [
    "\n",
    "\n",
    "## Chunking\n",
    "\n",
    "In this step I am creating the chunks of data, for this step I am using Recursive Character Splitter which break large Documents into smaller chunks. This is useful both for indexing data and for passing it in to a model, since large chunks are harder to search over and won’t fit in a model’s finite context window.\n"
   ]
  },
  {
   "cell_type": "code",
   "execution_count": 69,
   "metadata": {},
   "outputs": [],
   "source": [
    "# splitting the text into chunks for embeddings creation\n",
    "\n",
    "\n",
    "text_splitter = RecursiveCharacterTextSplitter(\n",
    "        chunk_size = 900, \n",
    "        chunk_overlap = 200, # This is helpul to handle the data loss while chunking.\n",
    "        length_function = len,\n",
    "        separators=['\\n', '\\n\\n', ' ', '']\n",
    "    )\n",
    "    \n",
    "chunks = text_splitter.split_text(text = all_text)"
   ]
  },
  {
   "cell_type": "code",
   "execution_count": 70,
   "metadata": {},
   "outputs": [
    {
     "data": {
      "text/plain": [
       "30"
      ]
     },
     "execution_count": 70,
     "metadata": {},
     "output_type": "execute_result"
    }
   ],
   "source": [
    "len(chunks)"
   ]
  },
  {
   "cell_type": "markdown",
   "metadata": {},
   "source": [
    "## Embeddings Creation\n",
    "\n",
    "Embeddings creation is a crucial preprocessing step in the development of document-based Question and Answering (Q&A) systems. This process involves converting textual data from documents and questions into dense, high-dimensional vectors known as embeddings. These embeddings are designed to capture the semantic meaning of words, sentences, or even entire documents, enabling the Q&A system to understand and process natural language more effectively."
   ]
  },
  {
   "cell_type": "code",
   "execution_count": 71,
   "metadata": {},
   "outputs": [],
   "source": [
    "# Initializing embeddings model\n",
    "\n",
    "embeddings = HuggingFaceEmbeddings(model_name='sentence-transformers/all-MiniLM-L6-v2')"
   ]
  },
  {
   "cell_type": "markdown",
   "metadata": {},
   "source": [
    "## Indexing\n",
    "\n",
    "Indexing data using Facebook AI Similarity Search (FAISS) is a pivotal step in developing efficient and scalable document-based Question and Answering (Q&A) systems. FAISS is a library that facilitates the efficient search for similarities in large datasets, especially useful for tasks involving high-dimensional vectors like text embeddings. When applied to document-based Q&A, FAISS indexes the embeddings of document chunks (e.g., paragraphs, sentences) to optimize the retrieval process."
   ]
  },
  {
   "cell_type": "code",
   "execution_count": 72,
   "metadata": {},
   "outputs": [],
   "source": [
    "# Indexing the data using FAISS\n",
    "vectorstore = FAISS.from_texts(chunks, embedding = embeddings)"
   ]
  },
  {
   "cell_type": "markdown",
   "metadata": {},
   "source": [
    "\n",
    "## Retriever\n",
    "\n",
    "In the development of document-based Question and Answering (Q&A) systems, creating a retriever is a crucial step that directly impacts the system's ability to find relevant information efficiently. The retriever utilizes the pre-indexed embeddings of document chunks, searching through them to find the most relevant pieces of content in response to a user query. This process involves setting up a retrieval mechanism that leverages similarity search to identify the best matches for the query embeddings within the indexed data."
   ]
  },
  {
   "cell_type": "markdown",
   "metadata": {},
   "source": [
    "\n",
    "\n"
   ]
  },
  {
   "cell_type": "code",
   "execution_count": 73,
   "metadata": {},
   "outputs": [],
   "source": [
    "# creating retriever\n",
    "retriever = vectorstore.as_retriever(search_type=\"similarity\", search_kwargs={\"k\": 2})"
   ]
  },
  {
   "cell_type": "code",
   "execution_count": 74,
   "metadata": {},
   "outputs": [],
   "source": [
    "retrieved_docs = retriever.invoke(\"tell me about the fox poem\")"
   ]
  },
  {
   "cell_type": "code",
   "execution_count": 75,
   "metadata": {},
   "outputs": [
    {
     "data": {
      "text/plain": [
       "2"
      ]
     },
     "execution_count": 75,
     "metadata": {},
     "output_type": "execute_result"
    }
   ],
   "source": [
    "len(retrieved_docs)"
   ]
  },
  {
   "cell_type": "code",
   "execution_count": 76,
   "metadata": {},
   "outputs": [
    {
     "name": "stdout",
     "output_type": "stream",
     "text": [
      "The fox is no longer a formless stirring somewhere in the dark depths of the bodily imagin ation; \n",
      "it has been coaxed out of the darkness and into full consciousness. It is no longer nervous and \n",
      "vulnerable, but at home in the lair of the head, safe from extinction, perfectly created, its being \n",
      "caught forever  on the page. And all this has been don e purely by the imagination. For in reality \n",
      "there is no fox at all, and outside, in the external darkness, nothing has changed: „The window is \n",
      "starless still; the clock ticks, / The page is printed.‟ The fox is the poem, and the poem is the \n",
      "fox. „And I sup pose,‟ Ted Hughes has written, „that long after I am gone, as long as a copy of \n",
      "the poem exists, every time anyone reads it the fox will get up somewhere out of the darkness \n",
      "and come walking towards them.‟[1]\n"
     ]
    }
   ],
   "source": [
    "print(retrieved_docs[0].page_content)"
   ]
  },
  {
   "cell_type": "markdown",
   "metadata": {},
   "source": [
    "\n",
    "\n",
    "LLM Models\n",
    "\n",
    "    Large Language Models (LLMs) are advanced artificial intelligence systems designed to understand, generate, and interact with human language in a way that mimics human-like understanding. These models are trained on vast amounts of text data, allowing them to grasp the nuances of language, including grammar, context, and even cultural references. The capabilities of LLMs extend beyond simple text generation; they can perform a variety of tasks such as translation, summarization, question answering, and even code generation.\n",
    "    One of the key technologies behind LLMs is the Transformer architecture, which enables the model to pay attention to different parts of the input text differently, thereby understanding the context and relationships between words and phrases more effectively. This architecture has led to significant improvements in natural language processing tasks and is the foundation of many state-of-the-art LLMs.\n",
    "\n"
   ]
  },
  {
   "cell_type": "markdown",
   "metadata": {},
   "source": [
    "\n",
    "\n",
    "## LLM\n"
   ]
  },
  {
   "cell_type": "code",
   "execution_count": 77,
   "metadata": {},
   "outputs": [],
   "source": [
    "\n",
    "\n",
    "prompt_template = \"\"\"Answer the question as precise as possible using the provided context. If the answer is\n",
    "                not contained in the context, say \"answer not available in context\" \\n\\n\n",
    "                Context: \\n {context}?\\n\n",
    "                Question: \\n {question} \\n\n",
    "                Answer:\"\"\"\n",
    "\n",
    "prompt = PromptTemplate.from_template(template=prompt_template)\n",
    "\n"
   ]
  },
  {
   "cell_type": "code",
   "execution_count": 78,
   "metadata": {},
   "outputs": [],
   "source": [
    "\n",
    "\n",
    "# function to create a single string of relevant documents given by Faiss.\n",
    "def format_docs(docs):\n",
    "    return \"\\n\\n\".join(doc.page_content for doc in docs)\n",
    "\n"
   ]
  },
  {
   "cell_type": "code",
   "execution_count": 79,
   "metadata": {},
   "outputs": [],
   "source": [
    "# RAG Chain\n",
    "\n",
    "def generate_answer(question):\n",
    "    # Initialize local LLM\n",
    "    model_id = \"distilgpt2\"  # Lightweight, free model\n",
    "    tokenizer = AutoTokenizer.from_pretrained(model_id)\n",
    "    model = AutoModelForCausalLM.from_pretrained(model_id)\n",
    "    pipe = pipeline(\n",
    "        \"text-generation\",\n",
    "        model=model,\n",
    "        tokenizer=tokenizer,\n",
    "        max_new_tokens=100,\n",
    "        device=-1\n",
    "    )\n",
    "    llm = HuggingFacePipeline(pipeline=pipe)\n",
    "    \n",
    "    rag_chain = (\n",
    "        {\"context\": retriever | format_docs, \"question\": RunnablePassthrough()}\n",
    "        | prompt\n",
    "        | llm\n",
    "        | StrOutputParser()\n",
    "    )\n",
    "    \n",
    "    return rag_chain.invoke(question)"
   ]
  },
  {
   "cell_type": "markdown",
   "metadata": {},
   "source": [
    "## Results\n"
   ]
  },
  {
   "cell_type": "code",
   "execution_count": null,
   "metadata": {},
   "outputs": [
    {
     "name": "stderr",
     "output_type": "stream",
     "text": [
      "Device set to use cpu\n",
      "Setting `pad_token_id` to `eos_token_id`:50256 for open-end generation.\n"
     ]
    }
   ],
   "source": [
    "ans = generate_answer(\"tell me about the fox poem\")\n",
    "print(ans)"
   ]
  },
  {
   "cell_type": "markdown",
   "metadata": {},
   "source": [
    "## Conclusion"
   ]
  }
 ],
 "metadata": {
  "kernelspec": {
   "display_name": "3.10.0",
   "language": "python",
   "name": "python3"
  },
  "language_info": {
   "codemirror_mode": {
    "name": "ipython",
    "version": 3
   },
   "file_extension": ".py",
   "mimetype": "text/x-python",
   "name": "python",
   "nbconvert_exporter": "python",
   "pygments_lexer": "ipython3",
   "version": "3.10.0"
  }
 },
 "nbformat": 4,
 "nbformat_minor": 2
}
